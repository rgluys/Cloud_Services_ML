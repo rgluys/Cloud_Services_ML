{
  "nbformat": 4,
  "nbformat_minor": 0,
  "metadata": {
    "colab": {
      "name": "Cloud Services.ML",
      "provenance": [],
      "private_outputs": true,
      "authorship_tag": "ABX9TyNhc6WZ79hpb1fx757VUVIj",
      "include_colab_link": true
    },
    "kernelspec": {
      "name": "python3",
      "display_name": "Python 3"
    }
  },
  "cells": [
    {
      "cell_type": "markdown",
      "metadata": {
        "id": "view-in-github",
        "colab_type": "text"
      },
      "source": [
        "<a href=\"https://colab.research.google.com/github/rgluys/Cloud_Services_ML/blob/master/Cloud_Services_ML.ipynb\" target=\"_parent\"><img src=\"https://colab.research.google.com/assets/colab-badge.svg\" alt=\"Open In Colab\"/></a>"
      ]
    },
    {
      "cell_type": "markdown",
      "metadata": {
        "id": "tBYH2icjAh4E",
        "colab_type": "text"
      },
      "source": [
        "---\n",
        "# <div align=\"center\"> Cloud Services </div>\n",
        "---"
      ]
    },
    {
      "cell_type": "markdown",
      "metadata": {
        "id": "-w4LvCKmN_sN",
        "colab_type": "text"
      },
      "source": [
        "<div style=\"page-break-after: always;\"></div>\n",
        "\n",
        "---\n",
        "## Google Cloud Platform\n",
        "---\n",
        "\n",
        "***High level design of the GCP Architecture from Google Cloud Doc followed by GCP resources and best practices.***\n",
        "\n",
        "<div align=\"center\"> \n",
        "<img src=\"https://cloud.google.com/architecture/images/architecture-for-mlops-using-tfx-kubeflow-pipelines-and-cloud-build-3-tfx-google-cloud.svg\" width=\"750\"/>\n",
        "</div>\n",
        "\n",
        "##### <div align=\"center\">*⇧ [TFX(Tensorflow Extended)-based ML system on Google Cloud](https://cloud.google.com/solutions/machine-learning/architecture-for-mlops-using-tfx-kubeflow-pipelines-and-cloud-build)  ⇧*</div>\n",
        "\n",
        "---\n",
        "## GCP Resources\n",
        "---\n",
        "\n",
        "[💲Cost Calculator](https://cloud.google.com/products/calculator)\n",
        "\n",
        "[📑GCP Best Practices](https://cloud.google.com/docs/tutorials#architecture)\n",
        "\n",
        "[📄GCP Big Data Analytics](https://cloud.google.com/solutions/big-data)"
      ]
    },
    {
      "cell_type": "markdown",
      "metadata": {
        "id": "kDPIk6Q5eXCt",
        "colab_type": "text"
      },
      "source": [
        "<div style=\"page-break-after: always;\"></div>\n",
        "\n",
        "---\n",
        "## Amazon Web Services\n",
        "---\n",
        "\n",
        "***High level design of the AWS Architecture from a Medium Article followed by AWS guides & best practices.***\n",
        "\n",
        "\n",
        "<div align=\"center\">\n",
        "<img src=\"https://miro.medium.com/max/2000/1*vKCN3zwJnd5oyjJYQFlQQA.png\" width=\"750\"/>\n",
        "</div>\n",
        "\n",
        "##### <div align=\"center\">*⇧ [Sagemaker Architecture BYOM (Bring Your Own Model) Approach](https://towardsdatascience.com/ml-models-prototype-to-production-6bfe47973123) ⇧*</div>\n",
        "\n",
        "\n",
        "<div align=\"center\">\n",
        "<img src=\"https://miro.medium.com/max/2000/1*WxL5ymfDMNYNOSAVY76hLQ.png\" width=\"750\"/>\n",
        "</div>\n",
        "\n",
        "##### <div align=\"center\">*⇧ [Automatic Build and Deployment with AWS Sagemaker and Step Functions Architecture](https://towardsdatascience.com/ml-models-prototype-to-production-6bfe47973123) ⇧*</div>\n",
        "\n",
        "---\n",
        "## AWS Resources\n",
        "---\n",
        "[💲AWS Cost Calculator](https://calculator.aws/#/)\n",
        "\n",
        "[📑AWS Whitepapers](https://aws.amazon.com/whitepapers/?whitepapers-main.sort-by=item.additionalFields.sortDate&whitepapers-main.sort-order=desc)\n",
        "\n",
        "[📄AWS Whitepaper: _\"Best practices for architecting machine learning (ML) workloads on AWS\"_](https://d1.awsstatic.com/whitepapers/architecture/wellarchitected-Machine-Learning-Lens.pdf?did=wp_card&trk=wp_card)"
      ]
    },
    {
      "cell_type": "markdown",
      "metadata": {
        "id": "qvn_xMv3gRTb",
        "colab_type": "text"
      },
      "source": [
        "<div style=\"page-break-after: always;\"></div>\n",
        "\n",
        "---\n",
        "## Microsoft Azure\n",
        "---\n",
        "\n",
        "***High level design of the Azure Machine Learning Architecture followed by Azure resources. ***\n",
        "\n",
        "\n",
        "<div align=\"center\"> \n",
        "<img src=\"https://docs.microsoft.com/en-us/azure/machine-learning/media/concept-ml-pipelines/pipeline-flow.png\" width=\"750\"/>\n",
        "<img src=\"https://docs.microsoft.com/en-us/azure/machine-learning/media/concept-ml-pipelines/run_an_experiment_as_a_pipeline.png\" width=\"750\"/>\n",
        "</div>\n",
        "\n",
        "##### <div align=\"center\">*⇧ [Azure High Level Design & Workspace Architecture](https://docs.microsoft.com/en-us/azure/machine-learning/concept-ml-pipelines)  ⇧*</div>\n",
        "\n",
        "---\n",
        "## Azure Resources\n",
        "---\n",
        "\n",
        "[💲Azure Cost Calculator](https://azure.microsoft.com/en-us/pricing/calculator/?service=machine-learning-service)\n",
        "\n",
        "[📑Azure Best Practices](https://docs.microsoft.com/en-us/azure/machine-learning/concept-ml-pipelines)\n",
        "\n",
        "[📄Azure Big Data Analytics](https://docs.microsoft.com/en-us/azure/machine-learning/overview-what-is-azure-ml)"
      ]
    },
    {
      "cell_type": "markdown",
      "metadata": {
        "id": "KimscXhBp13g",
        "colab_type": "text"
      },
      "source": [
        "<div style=\"page-break-after: always;\"></div>\n",
        "\n",
        "---\n",
        "## IBM Watson Studio\n",
        "---\n",
        "\n",
        "***High level design of the IBM Watson Studio Architecture followed by IBM Watson resources. ***\n",
        "\n",
        "\n",
        "<div align=\"center\"> \n",
        "<img src=\"https://www.ibm.com/cloud/architecture/images/architecture/data-ref-diagram-collect-organize.svg\" width=\"750\"/>\n",
        "\n",
        "##### <div align=\"center\">*⇧ [IBM High Level Design Architecture](https://www.ibm.com/cloud/architecture/architectures/dataArchitecture/reference-architecture)  ⇧*</div>\n",
        "\n",
        "<img src=\"https://www.ibm.com/cloud/architecture/images/architecture/data-capabilities.png\" width=\"750\"/></div>\n",
        "\n",
        "##### <div align=\"center\">*⇧ [AI Ladder - IBM Collect & Organize Products](https://www.ibm.com/cloud/architecture/architectures/dataArchitecture)  ⇧*</div>\n",
        "\n",
        "---\n",
        "## IBM Watson Studio Resources\n",
        "---\n",
        "\n",
        "[💲IBM Cost Calculation Instructions](https://cloud.ibm.com/docs/billing-usage?topic=billing-usage-cost)\n",
        "\n",
        "[📑IBM Tutorials](https://developer.ibm.com/technologies/machine-learning/tutorials/)\n",
        "\n",
        "[📑IBM Machine Learning Articles](https://developer.ibm.com/technologies/machine-learning/articles/)"
      ]
    }
  ]
}
